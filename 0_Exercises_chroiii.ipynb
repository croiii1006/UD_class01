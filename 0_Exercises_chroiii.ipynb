{
 "cells": [
  {
   "cell_type": "markdown",
   "id": "529d91ae",
   "metadata": {
    "tags": []
   },
   "source": [
    "# Exercise 00\n",
    "Write a bit of code that prints _Introduction to Programming_ to the console and execute the cell"
   ]
  },
  {
   "cell_type": "code",
   "execution_count": 1,
   "id": "98711beb",
   "metadata": {},
   "outputs": [
    {
     "name": "stdout",
     "output_type": "stream",
     "text": [
      "Introduction to Programming\n"
     ]
    }
   ],
   "source": [
    "print(\"Introduction to Programming\")"
   ]
  },
  {
   "cell_type": "markdown",
   "id": "63ad5023",
   "metadata": {},
   "source": [
    "-----------------------------------------------------------------------------\n",
    "# Exercise 01\n",
    "Hello World is traditionally the first program anyone writes. It is\n",
    "very simple and the only thing it should do is print Hello World! to the\n",
    "terminal window.\n",
    "Create a file called HelloWorld.py and edit the contents so it prints Hello World! to the terminal and execute it using the command line."
   ]
  },
  {
   "cell_type": "markdown",
   "id": "a4a7c4c2",
   "metadata": {},
   "source": [
    "-----------------------------------------------------------------------------\n",
    "# Exercise 02\n",
    "Write some code to print your name, email, and age on separate lines. For each element first assign it to a variable and use the variable to print. \n",
    "\n",
    "Bonus: try to create the print statement for all variable in one line of code. (hint: '\\n' is the character for a new line)"
   ]
  },
  {
   "cell_type": "code",
   "execution_count": 5,
   "id": "fc8fface",
   "metadata": {},
   "outputs": [
    {
     "name": "stdout",
     "output_type": "stream",
     "text": [
      "Chroiii\n",
      "ucbvcc7@ucl.ac.uk\n",
      "24\n",
      "Chroiii\n",
      "ucbvcc7@ucl.ac.uk\n",
      "24\n"
     ]
    }
   ],
   "source": [
    "myName = \"Chroiii\"\n",
    "myEmail = \"ucbvcc7@ucl.ac.uk\"\n",
    "myAge = 24\n",
    "\n",
    "print(myName)\n",
    "print(myEmail)\n",
    "print(myAge)\n",
    "\n",
    "print(f\"{myName}\\n{myEmail}\\n{myAge}\")"
   ]
  },
  {
   "cell_type": "markdown",
   "id": "0dd1c1d1",
   "metadata": {},
   "source": [
    "-----------------------------------------------------------------------------\n",
    "# Exercise 03\n",
    "Print the numbers 0, 178, -21, 2938 divided by 49, 436 multiplied with 9948 and 12 to the power of 20\n",
    "\n",
    "(Hint: Look up the documentation of basic arithmetic operators)"
   ]
  },
  {
   "cell_type": "code",
   "execution_count": 8,
   "id": "f3d5d009",
   "metadata": {},
   "outputs": [
    {
     "name": "stdout",
     "output_type": "stream",
     "text": [
      "0.0\n",
      "3.63265306122449\n",
      "-0.42857142857142855\n",
      "59.95918367346939\n",
      "4337328\n",
      "3833759992447475122176\n"
     ]
    }
   ],
   "source": [
    "num1 = 0\n",
    "num2 = 178\n",
    "num3 = -21\n",
    "num4 = 2938\n",
    "num5 = 49\n",
    "num6 = 436\n",
    "num7 = 9948\n",
    "num8 = 12\n",
    "num9 = 20\n",
    "\n",
    "result1 = num1/num5\n",
    "result2 = num2/num5\n",
    "result3 = num3/num5\n",
    "result4 = num4/num5\n",
    "result5 = num6*num7\n",
    "result6 = num8**num9\n",
    "\n",
    "print(f\"{result1}\\n{result2}\\n{result3}\\n{result4}\\n{result5}\\n{result6}\")\n"
   ]
  },
  {
   "cell_type": "markdown",
   "id": "1f151455",
   "metadata": {},
   "source": [
    "-----------------------------------------------------------------------------\n",
    "# Exercise 04\n",
    "Print sin(200), cos(100), tan($\\pi$/4)\n",
    "\n",
    "(Hint: Look up for how to use trigonometric function, and how to get the value of $\\pi$.)"
   ]
  },
  {
   "cell_type": "code",
   "execution_count": 11,
   "id": "d0e37690",
   "metadata": {},
   "outputs": [
    {
     "name": "stdout",
     "output_type": "stream",
     "text": [
      "-0.8732972972139946\n",
      "0.8623188722876839\n",
      "0.9999999999999999\n"
     ]
    }
   ],
   "source": [
    "import math\n",
    "\n",
    "sin_val = math.sin(200)\n",
    "cos_val = math.cos(100)\n",
    "tan_val = math.tan(math.pi/4)\n",
    "\n",
    "print(f\"{sin_val}\\n{cos_val}\\n{tan_val}\")\n"
   ]
  },
  {
   "cell_type": "markdown",
   "id": "9d026820",
   "metadata": {},
   "source": [
    "-----------------------------------------------------------------------------\n",
    "# Exercise 05\n",
    "Write a program to read your first and last names from the console seperately, and then print them on the console together, separated by a space."
   ]
  },
  {
   "cell_type": "code",
   "execution_count": 14,
   "id": "4c7217e0",
   "metadata": {},
   "outputs": [
    {
     "name": "stdout",
     "output_type": "stream",
     "text": [
      "Chroiii Cai\n"
     ]
    }
   ],
   "source": [
    "first_name = \"Chroiii\"\n",
    "last_name = \"Cai\"\n",
    "\n",
    "print(first_name + ' ' + last_name)"
   ]
  },
  {
   "cell_type": "markdown",
   "id": "e83fa346",
   "metadata": {},
   "source": [
    "-----------------------------------------------------------------------------\n",
    "# Exercise 06\n",
    "Write a program that determines whether a number given as user input is positive or negative\n",
    " \n",
    "You will need to convert the console input from a string to a number first!"
   ]
  },
  {
   "cell_type": "code",
   "execution_count": 34,
   "id": "574c067a-d684-4b97-9252-de9a6e7fe038",
   "metadata": {},
   "outputs": [
    {
     "name": "stdin",
     "output_type": "stream",
     "text": [
      "enter your number:  54\n"
     ]
    },
    {
     "name": "stdout",
     "output_type": "stream",
     "text": [
      "The number is positive\n"
     ]
    }
   ],
   "source": [
    "number = int(input(\"enter your number: \"))\n",
    "\n",
    "\n",
    "if number > 0:\n",
    "    print('The number is positive')\n",
    "elif number < 0:\n",
    "    print('the number is negative')\n",
    "else:\n",
    "    print('the number is 0')"
   ]
  },
  {
   "cell_type": "markdown",
   "id": "2a192596",
   "metadata": {},
   "source": [
    "-----------------------------------------------------------------------------\n",
    "# Exercise 07\n",
    "Write a program that picks a random number between 1-20 and makes the user guess until they get the number right. Then print a congratulations message\n",
    "- (Find out yourself how to generate a random integer)\n",
    "- Bonus: make the user choose the range within which they have to guess\n",
    "- Bonus: keep track of how many guesses were made and print this at the end"
   ]
  },
  {
   "cell_type": "code",
   "execution_count": 32,
   "id": "70358dd3",
   "metadata": {},
   "outputs": [
    {
     "name": "stdout",
     "output_type": "stream",
     "text": [
      "Guess a number between 1 and 20.\n"
     ]
    },
    {
     "name": "stdin",
     "output_type": "stream",
     "text": [
      "enter your guess:  5\n"
     ]
    },
    {
     "name": "stdout",
     "output_type": "stream",
     "text": [
      "too low, try again\n"
     ]
    },
    {
     "name": "stdin",
     "output_type": "stream",
     "text": [
      "enter your guess:  10\n"
     ]
    },
    {
     "name": "stdout",
     "output_type": "stream",
     "text": [
      "too low, try again\n"
     ]
    },
    {
     "name": "stdin",
     "output_type": "stream",
     "text": [
      "enter your guess:  15\n"
     ]
    },
    {
     "name": "stdout",
     "output_type": "stream",
     "text": [
      "too low, try again\n"
     ]
    },
    {
     "name": "stdin",
     "output_type": "stream",
     "text": [
      "enter your guess:  16\n"
     ]
    },
    {
     "name": "stdout",
     "output_type": "stream",
     "text": [
      "too low, try again\n"
     ]
    },
    {
     "name": "stdin",
     "output_type": "stream",
     "text": [
      "enter your guess:  17\n"
     ]
    },
    {
     "name": "stdout",
     "output_type": "stream",
     "text": [
      "Congratulations!\n",
      "you guessed 5 times.\n"
     ]
    }
   ],
   "source": [
    "import random\n",
    "\n",
    "def guess_number():\n",
    "    random_number = random.randint(1,20)\n",
    "    guesses_made = 0\n",
    "    user_guess = None\n",
    "    correct_guess = False\n",
    "\n",
    "    print(f\"Guess a number between {1} and {20}.\")\n",
    "\n",
    "    while user_guess != random_number:\n",
    "          user_guess = int(input(\"enter your guess: \"))\n",
    "          guesses_made += 1\n",
    "\n",
    "          if user_guess < random_number:\n",
    "             print(\"too low, try again\")\n",
    "          elif user_guess > random_number:\n",
    "               print(\"too high, try again\")\n",
    "       \n",
    "        \n",
    "    print(\"Congratulations!\")\n",
    "    print(f\"you guessed {guesses_made} times.\")\n",
    "guess_number()"
   ]
  },
  {
   "cell_type": "markdown",
   "id": "d53b9c07",
   "metadata": {},
   "source": [
    "-----------------------------------------------------------------------------\n",
    "# Exercise 08\n",
    "Ask a sentence as input, then print the words in alphabetical order.\n",
    "Hint: look up how to split up a string"
   ]
  },
  {
   "cell_type": "code",
   "execution_count": 38,
   "id": "b6524cf5",
   "metadata": {},
   "outputs": [
    {
     "name": "stdin",
     "output_type": "stream",
     "text": [
      "enter a sentence:  hello my name is chroiii nice to meet you\n"
     ]
    },
    {
     "name": "stdout",
     "output_type": "stream",
     "text": [
      "chroiii\n",
      "hello\n",
      "is\n",
      "meet\n",
      "my\n",
      "name\n",
      "nice\n",
      "to\n",
      "you\n"
     ]
    }
   ],
   "source": [
    "sentence = input (\"enter a sentence: \")\n",
    "\n",
    "words = sentence.split()\n",
    "\n",
    "words.sort()\n",
    "\n",
    "for word in words:\n",
    "    print(word)"
   ]
  },
  {
   "cell_type": "markdown",
   "id": "09a7b060",
   "metadata": {},
   "source": [
    "-----------------------------------------------------------------------------\n",
    "# Exercise 09\n",
    "Write a program using for loops to print a christmas tree of x lines high\n",
    "specified by the user.\n",
    "(use for loops)\n",
    "so for instance, a chrismas tree of 4 high should looks like this:\n",
    "\n",
    "```\n",
    "\n",
    "    *\n",
    "   ***\n",
    "  *****\n",
    " *******\n",
    "    |\n",
    "\n",
    "```\n",
    "\n",
    "hint: first combine strings into a variable before printing"
   ]
  },
  {
   "cell_type": "code",
   "execution_count": 48,
   "id": "5150f7a4",
   "metadata": {},
   "outputs": [
    {
     "name": "stdin",
     "output_type": "stream",
     "text": [
      "Enter the height of christmas tree:  6\n"
     ]
    },
    {
     "name": "stdout",
     "output_type": "stream",
     "text": [
      "      *\n",
      "     ***\n",
      "    *****\n",
      "   *******\n",
      "  *********\n",
      " ***********\n",
      "      |\n"
     ]
    }
   ],
   "source": [
    "height = int(input(\"Enter the height of christmas tree: \"))\n",
    "\n",
    "for i in range(height):\n",
    "    print(\" \"*(height-i-1),end=\" \")\n",
    "    print(\"*\"*(2*i+1))\n",
    "print(\" \"*(height-1),\"|\")\n",
    "\n",
    "\n",
    "    "
   ]
  },
  {
   "cell_type": "markdown",
   "id": "07f67531",
   "metadata": {},
   "source": [
    "-----------------------------------------------------------------------------\n",
    "# Exercise 10\n",
    "Write a piece of code that prints the first $n$ numbers of the padovan sequence"
   ]
  },
  {
   "cell_type": "code",
   "execution_count": 52,
   "id": "d301c61b",
   "metadata": {},
   "outputs": [
    {
     "name": "stdin",
     "output_type": "stream",
     "text": [
      "enter the number of sequence: 10\n"
     ]
    },
    {
     "name": "stdout",
     "output_type": "stream",
     "text": [
      "the first 10 number is [1, 1, 1, 2, 2, 3, 4, 5, 7, 9]\n"
     ]
    }
   ],
   "source": [
    "def padovan_sequence(n) :\n",
    "    padovan = [1,1,1]\n",
    "\n",
    "    for i in range (3,n):\n",
    "        next_number = padovan[i-3]+padovan[i-2]\n",
    "        padovan.append(next_number)\n",
    "    return padovan[:n]\n",
    "\n",
    "n = int(input(\"enter the number of sequence:\"))\n",
    "\n",
    "print(\"the first\",n,\"number is\",padovan_sequence(n))"
   ]
  },
  {
   "cell_type": "code",
   "execution_count": null,
   "id": "24bf7338-038c-4c51-9933-105977581de2",
   "metadata": {},
   "outputs": [],
   "source": []
  }
 ],
 "metadata": {
  "kernelspec": {
   "display_name": "Python 3 (ipykernel)",
   "language": "python",
   "name": "python3"
  },
  "language_info": {
   "codemirror_mode": {
    "name": "ipython",
    "version": 3
   },
   "file_extension": ".py",
   "mimetype": "text/x-python",
   "name": "python",
   "nbconvert_exporter": "python",
   "pygments_lexer": "ipython3",
   "version": "3.12.4"
  }
 },
 "nbformat": 4,
 "nbformat_minor": 5
}
