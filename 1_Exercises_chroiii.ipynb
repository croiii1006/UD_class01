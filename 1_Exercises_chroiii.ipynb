{
 "cells": [
  {
   "cell_type": "markdown",
   "id": "38e188a5",
   "metadata": {},
   "source": [
    "# Exercise 00\n",
    "Write a piece of code that allocates a list of 20 integers and initializes each element by its index multiplied by 5. Print the result."
   ]
  },
  {
   "cell_type": "code",
   "execution_count": 8,
   "id": "01aa4f35",
   "metadata": {},
   "outputs": [
    {
     "name": "stdout",
     "output_type": "stream",
     "text": [
      "[0, 5, 10, 15, 20, 25, 30, 35, 40, 45, 50, 55, 60, 65, 70, 75, 80, 85, 90, 95]\n"
     ]
    }
   ],
   "source": [
    "numbers = []\n",
    "for i in range(20):\n",
    "    numbers.append(i*5)\n",
    "print(numbers)"
   ]
  },
  {
   "cell_type": "markdown",
   "id": "529d91ae",
   "metadata": {},
   "source": [
    "# Exercise 01\n",
    "Define a function that takes an integer as input, prints  all integers that it is divisable by, and returns the largest one."
   ]
  },
  {
   "cell_type": "code",
   "execution_count": 10,
   "id": "30e79132",
   "metadata": {},
   "outputs": [
    {
     "name": "stdin",
     "output_type": "stream",
     "text": [
      "enter a number:  50\n"
     ]
    },
    {
     "name": "stdout",
     "output_type": "stream",
     "text": [
      "1\n",
      "2\n",
      "5\n",
      "10\n",
      "25\n",
      "50\n",
      "the largest divisor of {number} is {largest_divisor}\n"
     ]
    }
   ],
   "source": [
    "def find_largest_divisor(n):\n",
    "    divisors = []\n",
    "\n",
    "    for i in range(1,n+1):\n",
    "        if n % i == 0:\n",
    "            divisors.append(i)\n",
    "            print(i)\n",
    "    if divisors:\n",
    "        return max(divisors)\n",
    "    else:\n",
    "        return None\n",
    "\n",
    "number = int(input(\"enter a number: \"))\n",
    "largest_divisor = find_largest_divisor(number)\n",
    "\n",
    "if largest_divisor != None:\n",
    "    print(\"the largest divisor of {number} is {largest_divisor}\")\n",
    "else:\n",
    "    print(\"there is no divisor\")"
   ]
  },
  {
   "cell_type": "markdown",
   "id": "cfbe30d4",
   "metadata": {},
   "source": [
    "# Exercise 02\n",
    "- create a dictionary with 6 keys and values of your choice\n",
    "- write a function that takes a dictionary and a value as input and returns whether the value occurs as a key in the dictionary\n",
    "- write a function that takes a dictionary as input, and returns the dictionary but the keys are swapped with their values (resolve the issue if a value occurs twice!)"
   ]
  },
  {
   "cell_type": "code",
   "execution_count": 32,
   "id": "2123f1c6",
   "metadata": {},
   "outputs": [
    {
     "name": "stdin",
     "output_type": "stream",
     "text": [
      "enter the number to check:  1\n"
     ]
    },
    {
     "name": "stdout",
     "output_type": "stream",
     "text": [
      "Is the value 1 present? False\n"
     ]
    }
   ],
   "source": [
    "dict = {\"cat\":1,\"dog\":2,\"butterfly\":3,\"lion\":4,\"tiger\":5,\"elephant\":6}\n",
    "\n",
    "def whether_value(dict, value):\n",
    "    return value in dict\n",
    "value_to_check = int(input(\"enter the number to check: \"))\n",
    "print(f\"Is the value {value_to_check} present? {whether_value(dict, value_to_check)}\")"
   ]
  },
  {
   "cell_type": "markdown",
   "id": "b4b4e426",
   "metadata": {},
   "source": [
    "# Exercise 03\n",
    "Define a function that creates a dictionary of the first n fibonacci numbers as values paired with their indices as keys. "
   ]
  },
  {
   "cell_type": "code",
   "execution_count": 66,
   "id": "7f054c9a-7a57-4998-a578-92252753ff5c",
   "metadata": {},
   "outputs": [
    {
     "name": "stdout",
     "output_type": "stream",
     "text": [
      "{0: 0, 1: 1, 2: 1, 3: 2, 4: 3, 5: 5, 6: 8, 7: 13, 8: 21, 9: 34}\n"
     ]
    }
   ],
   "source": [
    "def fibonacci_dict(n):\n",
    "    if n <= 0:\n",
    "        return {}\n",
    "    elif n == 1:\n",
    "        return {0: 0}\n",
    "    \n",
    "    fib_dict = {0: 0, 1: 1}\n",
    "    for i in range(2, n):\n",
    "        fib_dict[i] = fib_dict[i - 1] + fib_dict[i - 2]\n",
    "    \n",
    "    return fib_dict\n",
    "\n",
    "\n",
    "print(fibonacci_dict(10))"
   ]
  }
 ],
 "metadata": {
  "kernelspec": {
   "display_name": "Python 3 (ipykernel)",
   "language": "python",
   "name": "python3"
  },
  "language_info": {
   "codemirror_mode": {
    "name": "ipython",
    "version": 3
   },
   "file_extension": ".py",
   "mimetype": "text/x-python",
   "name": "python",
   "nbconvert_exporter": "python",
   "pygments_lexer": "ipython3",
   "version": "3.12.4"
  }
 },
 "nbformat": 4,
 "nbformat_minor": 5
}
